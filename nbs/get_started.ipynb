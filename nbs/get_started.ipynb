{
 "cells": [
  {
   "cell_type": "code",
   "execution_count": null,
   "id": "4ca96dd4-39d6-4131-aefc-5aea4cd3f25b",
   "metadata": {},
   "outputs": [],
   "source": [
    "import psycopg2\n",
    "import pandas as pd"
   ]
  },
  {
   "cell_type": "code",
   "execution_count": null,
   "id": "91045359-a4d6-40ca-9249-22ab9de86bf1",
   "metadata": {},
   "outputs": [],
   "source": [
    "def create_dbs():\n",
    "    \"\"\"\n",
    "        Create the datawarehouse and codeopfintech databases.\n",
    "        If any of them already exists, Drop and create the database.\n",
    "    Returns:\n",
    "        success(boolean): wether the operation succeed or not.\n",
    "    \"\"\"\n",
    "    try:\n",
    "        # connect to default database\n",
    "        conn = psycopg2.connect(\"postgresql://postgres:codeop@db\")\n",
    "        conn.set_session(autocommit=True)\n",
    "        cur = conn.cursor()\n",
    "\n",
    "        # create databases with UTF8 encoding\n",
    "        cur.execute(\"DROP DATABASE IF EXISTS datawarehouse\")\n",
    "        cur.execute(\"DROP DATABASE IF EXISTS codeopfintech\")\n",
    "        cur.execute(\n",
    "            \"CREATE DATABASE datawarehouse WITH ENCODING 'utf8' TEMPLATE template0\"\n",
    "        )\n",
    "        cur.execute(\n",
    "            \"CREATE DATABASE codeopfintech WITH ENCODING 'utf8' TEMPLATE template0\"\n",
    "        )\n",
    "\n",
    "        # close connection\n",
    "        conn.close()\n",
    "\n",
    "        # connect to data_warehouse database\n",
    "        # conn = psycopg2.connect(\"postgresql://postgres:letmein@db/datawarehouse\")\n",
    "        # cur = conn.cursor()\n",
    "        return True\n",
    "    except (Exception, psycopg2.Error) as error:\n",
    "        print(\"Failed to creating dbs: \", error)\n",
    "        return False"
   ]
  },
  {
   "cell_type": "code",
   "execution_count": null,
   "id": "97b91ef9-1309-438d-a3b9-cdcfb3940af1",
   "metadata": {},
   "outputs": [],
   "source": [
    "def get_db(db_name):\n",
    "    \"\"\"\n",
    "    Establish connection to a database and return its connection.\n",
    "    Args:\n",
    "        dn_name (str): The name of the database you want to connect\n",
    "    Returns:\n",
    "        cursor(psycopg2.cursor): The psycopg2 cursor\n",
    "        connection(psycopg2.connection): The db connection\n",
    "    \"\"\"\n",
    "    try:\n",
    "        conn = psycopg2.connect(f\"postgresql://postgres:codeop@db/{db_name}\")\n",
    "\n",
    "        return conn.cursor(), conn\n",
    "    except (Exception, psycopg2.Error) as error:\n",
    "        print(\"Failed to getting db: \", error)\n",
    "        return False, False"
   ]
  },
  {
   "cell_type": "code",
   "execution_count": null,
   "id": "b560f5f0-4bac-4200-bc32-d8c333134603",
   "metadata": {},
   "outputs": [],
   "source": [
    "create_dbs()"
   ]
  },
  {
   "cell_type": "code",
   "execution_count": null,
   "id": "c4d9d60a-c627-40c1-a712-996ad0cc16fc",
   "metadata": {},
   "outputs": [],
   "source": [
    "create_table = (\"\"\"\n",
    "    CREATE TABLE cards (\n",
    "      id varchar(34),\n",
    "      user_id int,\n",
    "      iban varchar(34),\n",
    "      pan varchar(255),\n",
    "      pin varchar(4),\n",
    "      cvv varchar(255),\n",
    "      track1 varchar(255),\n",
    "      track2 varchar(255),\n",
    "      expiring_date varchar(255),\n",
    "      PRIMARY KEY (id)\n",
    "    )\n",
    "\"\"\")"
   ]
  },
  {
   "cell_type": "code",
   "execution_count": null,
   "id": "431c8e84-3af4-4e1e-8be8-47e7a74e89f8",
   "metadata": {},
   "outputs": [],
   "source": [
    "cards_table_insert = (\"\"\"\n",
    "    INSERT INTO cards(\n",
    "        id,\n",
    "        user_id,\n",
    "        iban,\n",
    "        pan,\n",
    "        pin,\n",
    "        cvv,\n",
    "        track1,\n",
    "        track2,\n",
    "        expiring_date)\n",
    "    VALUES(%s, %s, %s, %s, %s, %s, %s, %s, %s)\n",
    "\"\"\")"
   ]
  },
  {
   "cell_type": "code",
   "execution_count": null,
   "id": "9cad074b-ab00-4804-8530-cc44b745cf87",
   "metadata": {},
   "outputs": [],
   "source": [
    "cur, conn = get_db(\"datawarehouse\")"
   ]
  },
  {
   "cell_type": "code",
   "execution_count": null,
   "id": "8cbb41c6-7dce-44eb-9183-c064af1f165e",
   "metadata": {},
   "outputs": [],
   "source": [
    "cur.execute(create_table)\n",
    "conn.commit()"
   ]
  },
  {
   "cell_type": "code",
   "execution_count": null,
   "id": "1910f0e6-a23c-4533-8370-0d4462256223",
   "metadata": {},
   "outputs": [],
   "source": [
    "df = pd.read_csv(\"credit_cards.csv\")\n",
    "df.head()"
   ]
  },
  {
   "cell_type": "code",
   "execution_count": null,
   "id": "06e09ff6-dcb5-4c72-aeb9-8784a99bca52",
   "metadata": {},
   "outputs": [],
   "source": [
    "cards_row = df[:].values[0]\n",
    "cards_row"
   ]
  },
  {
   "cell_type": "code",
   "execution_count": null,
   "id": "400ffa14-2ac0-4857-a891-e5902ffda715",
   "metadata": {},
   "outputs": [],
   "source": [
    "cur.execute(cards_table_insert, cards_row)\n",
    "conn.commit()"
   ]
  },
  {
   "cell_type": "code",
   "execution_count": null,
   "id": "f8ada61b-fb05-46a1-b1d3-1ec13c65a959",
   "metadata": {},
   "outputs": [],
   "source": [
    "conn.close()"
   ]
  },
  {
   "cell_type": "code",
   "execution_count": null,
   "id": "cdf17993-06d3-4a54-aafd-f2cb2e63fbef",
   "metadata": {},
   "outputs": [],
   "source": []
  }
 ],
 "metadata": {
  "kernelspec": {
   "display_name": "Python 3 (ipykernel)",
   "language": "python",
   "name": "python3"
  },
  "language_info": {
   "codemirror_mode": {
    "name": "ipython",
    "version": 3
   },
   "file_extension": ".py",
   "mimetype": "text/x-python",
   "name": "python",
   "nbconvert_exporter": "python",
   "pygments_lexer": "ipython3",
   "version": "3.9.10"
  }
 },
 "nbformat": 4,
 "nbformat_minor": 5
}
